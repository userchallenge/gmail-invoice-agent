{
 "cells": [
  {
   "cell_type": "markdown",
   "metadata": {},
   "source": [
    "# 📧 Zero Inbox Agent - Step-by-Step Testing\n",
    "\n",
    "Test each phase of the Zero Inbox email categorization system.\n",
    "\n",
    "**Goal**: Automatically categorize emails into 3 MVP categories:\n",
    "- Other/Advertising\n",
    "- Other/Rest  \n",
    "- Review/Job search\n",
    "\n",
    "---"
   ]
  },
  {
   "cell_type": "markdown",
   "metadata": {},
   "source": [
    "## 🔧 Section 1: Setup\n",
    "\n",
    "**What this does**: Initialize database and verify Gmail connection\n",
    "\n",
    "**Test goal**: ✅ Database ready, Gmail credentials working"
   ]
  },
  {
   "cell_type": "code",
   "execution_count": null,
   "metadata": {},
   "outputs": [
    {
     "name": "stdout",
     "output_type": "stream",
     "text": [
      "📚 Libraries imported successfully\n"
     ]
    }
   ],
   "source": [
    "# Import required libraries\n",
    "import sys\n",
    "import os\n",
    "import yaml\n",
    "import logging\n",
    "from datetime import datetime, timedelta\n",
    "from dotenv import load_dotenv\n",
    "\n",
    "# Load environment variables\n",
    "load_dotenv()\n",
    "\n",
    "# Setup logging for notebook\n",
    "logging.basicConfig(level=logging.INFO, format=\"%(levelname)s: %(message)s\")\n",
    "logger = logging.getLogger(__name__)\n",
    "\n",
    "print(\"📚 Libraries imported successfully\")"
   ]
  },
  {
   "cell_type": "code",
   "execution_count": null,
   "metadata": {},
   "outputs": [
    {
     "name": "stdout",
     "output_type": "stream",
     "text": [
      "⚙️  Configuration loaded\n",
      "Gmail credentials file: config/gmail_credentials.json\n",
      "Claude model: claude-3-5-sonnet-20241022\n"
     ]
    }
   ],
   "source": [
    "# Load configuration\n",
    "with open(\"config/config.yaml\", \"r\") as f:\n",
    "    config = yaml.safe_load(f)\n",
    "\n",
    "print(\"⚙️  Configuration loaded\")\n",
    "print(f\"Gmail credentials file: {config['gmail']['credentials_file']}\")\n",
    "print(f\"Claude model: {config['claude']['model']}\")"
   ]
  },
  {
   "cell_type": "code",
   "execution_count": null,
   "metadata": {},
   "outputs": [
    {
     "name": "stderr",
     "output_type": "stream",
     "text": [
      "INFO: ✅ Zero Inbox database initialized: sqlite:///data/zero_inbox.db\n",
      "INFO: ✅ Database schema verification successful:\n",
      "INFO:   - emails: 0 records\n",
      "INFO:   - email_categories: 3 records\n",
      "INFO:   - agent_actions: 0 records\n",
      "INFO:   - human_reviews: 0 records\n"
     ]
    },
    {
     "name": "stdout",
     "output_type": "stream",
     "text": [
      "✅ Database initialized successfully\n",
      "\n",
      "📊 Database status:\n",
      "  - emails: 0 records\n",
      "  - email_categories: 3 records\n",
      "  - agent_actions: 0 records\n",
      "  - human_reviews: 0 records\n"
     ]
    }
   ],
   "source": [
    "# Initialize Zero Inbox database\n",
    "from models.zero_inbox_models import DatabaseManager\n",
    "\n",
    "db_manager = DatabaseManager(\"sqlite:///data/zero_inbox.db\")\n",
    "success = db_manager.initialize_database()\n",
    "\n",
    "if success:\n",
    "    print(\"✅ Database initialized successfully\")\n",
    "\n",
    "    # Show current database status\n",
    "    success, table_info = db_manager.verify_schema()\n",
    "    if success:\n",
    "        print(\"\\n📊 Database status:\")\n",
    "        for info in table_info:\n",
    "            print(f\"  - {info}\")\n",
    "else:\n",
    "    print(\"❌ Database initialization failed\")"
   ]
  },
  {
   "cell_type": "code",
   "execution_count": null,
   "metadata": {},
   "outputs": [
    {
     "name": "stderr",
     "output_type": "stream",
     "text": [
      "INFO: file_cache is only supported with oauth2client<4.0.0\n",
      "INFO: Gmail authentication successful\n"
     ]
    },
    {
     "name": "stdout",
     "output_type": "stream",
     "text": [
      "✅ Gmail authentication successful\n",
      "Ready to fetch emails!\n"
     ]
    }
   ],
   "source": [
    "# Test Gmail credentials (without fetching emails)\n",
    "try:\n",
    "    from gmail_server import GmailServer\n",
    "\n",
    "    gmail_server = GmailServer(\n",
    "        config[\"gmail\"][\"credentials_file\"],\n",
    "        config[\"gmail\"][\"token_file\"],\n",
    "        config[\"gmail\"][\"scopes\"],\n",
    "        config,\n",
    "    )\n",
    "\n",
    "    print(\"✅ Gmail authentication successful\")\n",
    "    print(\"Ready to fetch emails!\")\n",
    "\n",
    "except Exception as e:\n",
    "    print(f\"❌ Gmail authentication failed: {e}\")\n",
    "    print(\"Please check your Gmail credentials setup\")"
   ]
  },
  {
   "cell_type": "markdown",
   "metadata": {},
   "source": [
    "---\n",
    "\n",
    "## 📧 Section 2: Fetch Emails\n",
    "\n",
    "**What this does**: Fetch emails from Gmail and store in database\n",
    "\n",
    "**Test goal**: ✅ X emails fetched and stored (no duplicates)"
   ]
  },
  {
   "cell_type": "code",
   "execution_count": 5,
   "metadata": {},
   "outputs": [
    {
     "name": "stdout",
     "output_type": "stream",
     "text": [
      "📅 Will fetch emails from last 1 day(s)\n",
      "📊 Maximum emails to fetch: 20\n"
     ]
    }
   ],
   "source": [
    "# Configure email fetching parameters\n",
    "DAYS_BACK = 1  # Change this to fetch more/fewer days\n",
    "MAX_EMAILS = 20  # Limit for testing\n",
    "\n",
    "print(f\"📅 Will fetch emails from last {DAYS_BACK} day(s)\")\n",
    "print(f\"📊 Maximum emails to fetch: {MAX_EMAILS}\")\n",
    "\n",
    "# Alternative: Use specific date range\n",
    "# FROM_DATE = \"2025-08-28\"  # YYYY-MM-DD format\n",
    "# TO_DATE = \"2025-08-29\"    # YYYY-MM-DD format\n",
    "# print(f\"📅 Date range: {FROM_DATE} to {TO_DATE}\")"
   ]
  },
  {
   "cell_type": "code",
   "execution_count": null,
   "metadata": {},
   "outputs": [
    {
     "name": "stderr",
     "output_type": "stream",
     "text": [
      "INFO: file_cache is only supported with oauth2client<4.0.0\n",
      "INFO: Gmail authentication successful\n",
      "INFO: ✅ Zero Inbox Email Fetcher initialized\n",
      "INFO: 🔄 Starting Zero Inbox email fetch and store process\n",
      "INFO: 📅 Using days back: 1\n",
      "INFO: Fetching emails with query: after:2025/08/28 ((subject:faktura OR faktura) OR (subject:räkning OR räkning) OR (subject:förfallodag OR förfallodag) OR (subject:förfallodatum OR förfallodatum) OR (subject:betalning OR betalning) OR (subject:att betala OR att betala) OR (subject:totalt belopp OR totalt belopp) OR (subject:slutsumma OR slutsumma) OR (subject:ocr OR ocr) OR (subject:bankgiro OR bankgiro) OR (subject:plusgiro OR plusgiro) OR (subject:invoice OR invoice) OR (subject:bill OR bill) OR (subject:statement OR statement) OR (subject:due OR due) OR (subject:payment due OR payment due) OR (subject:amount due OR amount due) OR (subject:total amount OR total amount) OR (subject:balance due OR balance due) OR (from:Vattenfall OR Vattenfall) OR (from:Telia OR Telia) OR (from:Telenor OR Telenor) OR (from:ICA OR ICA) OR (from:Coop OR Coop) OR (from:Skatteverket OR Skatteverket) OR (from:Försäkringskassan OR Försäkringskassan) OR (from:CSN OR CSN) OR (from:Spotify OR Spotify) OR (from:Nordea OR Nordea) OR (from:SEB OR SEB) OR (from:Swedbank OR Swedbank) OR (from:Handelsbanken OR Handelsbanken) OR (from:PayPal OR PayPal) OR (from:Amazon OR Amazon) OR (from:Microsoft OR Microsoft) OR (from:Google OR Google) OR (from:Adobe OR Adobe)) (max 20 emails)\n",
      "INFO: Searching emails from 2025-08-28 to 2025-08-29\n"
     ]
    },
    {
     "name": "stdout",
     "output_type": "stream",
     "text": [
      "🔄 Starting email fetch...\n"
     ]
    },
    {
     "name": "stderr",
     "output_type": "stream",
     "text": [
      "INFO: Found 15 potential invoice emails\n",
      "INFO: Processed email 1/15: Transform your images into unique content...\n",
      "INFO: Processed email 2/15: “project manager”: Kambi - Delivery Manager and mo...\n",
      "INFO: Processed email 3/15: Nytt ränteråd för brf:er...\n",
      "INFO: Processed email 4/15: Publication editors, welcome to your new submissio...\n",
      "INFO: Processed email 5/15: ~ 4 unique approaches to using diptychs in photogr...\n",
      "INFO: Processed email 6/15: Just nu – ränterabatt för bostadsrätter...\n",
      "INFO: Processed email 7/15: Påminnelse: Har du 1 minut över? Hjälp oss att bli...\n",
      "INFO: Processed email 8/15: Du har fått en ny faktura från Bangerhead.se...\n",
      "INFO: Processed email 9/15: Bangerhead, order 5703156...\n",
      "INFO: Processed email 10/15: You may be a fit for HEMKÖP’s Produktägare kundpro...\n",
      "INFO: Processed email 11/15: ByteDance passes Meta 📈, Google's manager purge 💼,...\n",
      "INFO: Processed email 12/15: “project manager”: Sun IP - Patent Prosecution Pro...\n",
      "INFO: Processed email 13/15: “consultant”: Billennium - 🌍 SAP Consultant – Tale...\n",
      "INFO: Processed email 14/15: How to make your social posts stand out, fast...\n",
      "INFO: Processed email 15/15: The Claude Code Workflow You Can Copy | Chris Dunl...\n",
      "INFO: Successfully processed 15 emails\n",
      "INFO: 📧 Fetched 15 emails from Gmail\n",
      "INFO: 📊 Processed 10/15 emails...\n",
      "INFO: ✅ Email fetch complete: 15 fetched, 15 stored\n"
     ]
    },
    {
     "name": "stdout",
     "output_type": "stream",
     "text": [
      "\n",
      "📊 Results:\n",
      "  - Emails fetched from Gmail: 15\n",
      "  - Emails stored in database: 15\n",
      "  - Duplicates skipped: 0\n"
     ]
    }
   ],
   "source": [
    "# Initialize email fetcher and fetch emails\n",
    "from zero_inbox_fetcher import ZeroInboxEmailFetcher\n",
    "\n",
    "print(\"🔄 Starting email fetch...\")\n",
    "\n",
    "# Create fetcher\n",
    "email_fetcher = ZeroInboxEmailFetcher(config, db_manager)\n",
    "\n",
    "# Fetch emails\n",
    "emails_fetched, emails_stored = email_fetcher.fetch_and_store_emails(\n",
    "    days_back=DAYS_BACK,\n",
    "    max_emails=MAX_EMAILS,\n",
    "    # Alternatively, use date range:\n",
    "    # from_date=FROM_DATE,\n",
    "    # to_date=TO_DATE\n",
    ")\n",
    "\n",
    "print(f\"\\n📊 Results:\")\n",
    "print(f\"  - Emails fetched from Gmail: {emails_fetched}\")\n",
    "print(f\"  - Emails stored in database: {emails_stored}\")\n",
    "print(f\"  - Duplicates skipped: {emails_fetched - emails_stored}\")"
   ]
  },
  {
   "cell_type": "code",
   "execution_count": null,
   "metadata": {},
   "outputs": [
    {
     "name": "stdout",
     "output_type": "stream",
     "text": [
      "📧 Sample of 5 most recent emails:\n",
      "\n",
      "1. From: Medium Daily Digest <noreply@medium.com>...\n",
      "   Subject: The Claude Code Workflow You Can Copy | Chris Dunl...\n",
      "   Date: 2025-08-28 05:10:00\n",
      "   Body preview: Stories for Christian Wahlström\n",
      "@christian.wahlstrom (https://medium.com/@christian.wahlstrom?source...\n",
      "\n",
      "2. From: Adobe Firefly <mail@mail.adobe.com>...\n",
      "   Subject: How to make your social posts stand out, fast...\n",
      "   Date: 2025-08-28 00:06:22\n",
      "   Body preview: ------------------------------------------------------------------------\n",
      "\n",
      "View web version:\n",
      "https://...\n",
      "\n",
      "3. From: LinkedIn Job Alerts <jobalerts-noreply@linkedin.co...\n",
      "   Subject: “consultant”: Billennium - 🌍 SAP Consultant – Tale...\n",
      "   Date: 2025-08-28 07:44:15\n",
      "   Body preview: Your job alert for consultant in Greater Stockholm Metropolitan Area\n",
      "26 new jobs match your preferen...\n",
      "\n",
      "4. From: LinkedIn Job Alerts <jobalerts-noreply@linkedin.co...\n",
      "   Subject: “project manager”: Sun IP - Patent Prosecution Pro...\n",
      "   Date: 2025-08-28 09:44:07\n",
      "   Body preview: Your job alert for project manager in Greater Stockholm Metropolitan Area\n",
      "24 new jobs match your pre...\n",
      "\n",
      "5. From: TLDR <dan@tldrnewsletter.com>...\n",
      "   Subject: ByteDance passes Meta 📈, Google's manager purge 💼,...\n",
      "   Date: 2025-08-28 10:21:51\n",
      "   Body preview: ByteDance is set to launch a new employee share buyback that will\n",
      "value it at more than $330 billion...\n"
     ]
    }
   ],
   "source": [
    "# Show sample stored emails\n",
    "from models.zero_inbox_models import Email\n",
    "\n",
    "session = db_manager.get_session()\n",
    "recent_emails = (\n",
    "    session.query(Email).order_by(Email.date_processed.desc()).limit(5).all()\n",
    ")\n",
    "\n",
    "print(f\"📧 Sample of {len(recent_emails)} most recent emails:\")\n",
    "for i, email in enumerate(recent_emails, 1):\n",
    "    print(f\"\\n{i}. From: {email.sender[:50]}...\")\n",
    "    print(f\"   Subject: {email.subject[:50]}...\")\n",
    "    print(f\"   Date: {email.date_received}\")\n",
    "    print(f\"   Body preview: {email.body[:100]}...\")\n",
    "    if email.pdf_content:\n",
    "        print(f\"   📎 Has PDF content ({len(email.pdf_content)} chars)\")\n",
    "\n",
    "session.close()"
   ]
  },
  {
   "cell_type": "markdown",
   "metadata": {},
   "source": [
    "---\n",
    "\n",
    "## 🏷️ Section 3: Categorize Emails\n",
    "\n",
    "**What this does**: Analyze emails and assign categories using AI\n",
    "\n",
    "**Test goal**: ✅ X emails categorized into Other/Advertising, Other/Rest, Review/Job search\n",
    "\n",
    "⚠️ **Note**: This section is a placeholder - categorization agents will be implemented in Phase 3"
   ]
  },
  {
   "cell_type": "code",
   "execution_count": null,
   "metadata": {},
   "outputs": [
    {
     "name": "stdout",
     "output_type": "stream",
     "text": [
      "📊 Emails ready for categorization: 15\n",
      "\n",
      "📧 Sample emails to categorize:\n",
      "\n",
      "1. From: Adobe Creative Cloud for Photographers <...\n",
      "   Subject: Transform your images into unique content...\n",
      "   Preview: ------------------------------------------------------------------------\n",
      "\n",
      "View w...\n",
      "\n",
      "2. From: LinkedIn Job Alerts <jobalerts-noreply@l...\n",
      "   Subject: “project manager”: Kambi - Delivery Manager and more...\n",
      "   Preview: Your job alert for project manager in Greater Stockholm Metropolitan Area\n",
      "23 new...\n",
      "\n",
      "3. From: SEB <noreply@newsletter.seb.se>...\n",
      "   Subject: Nytt ränteråd för brf:er...\n",
      "   Preview: SEB\n",
      "\n",
      "Få koll på den senaste utvecklingen. Dessutom: tips om brf-mässa i Stockhol...\n"
     ]
    }
   ],
   "source": [
    "# Show emails that need categorization\n",
    "from models.zero_inbox_models import EmailCategory\n",
    "\n",
    "session = db_manager.get_session()\n",
    "\n",
    "# Find emails without categories\n",
    "uncategorized_emails = (\n",
    "    session.query(Email)\n",
    "    .outerjoin(EmailCategory)\n",
    "    .filter(EmailCategory.email_id == None)\n",
    "    .all()\n",
    ")\n",
    "\n",
    "print(f\"📊 Emails ready for categorization: {len(uncategorized_emails)}\")\n",
    "\n",
    "if uncategorized_emails:\n",
    "    print(\"\\n📧 Sample emails to categorize:\")\n",
    "    for i, email in enumerate(uncategorized_emails[:3], 1):\n",
    "        print(f\"\\n{i}. From: {email.sender[:40]}...\")\n",
    "        print(f\"   Subject: {email.subject[:60]}...\")\n",
    "        print(f\"   Preview: {email.body[:80]}...\")\n",
    "else:\n",
    "    print(\"ℹ️ All emails are already categorized\")\n",
    "\n",
    "session.close()"
   ]
  },
  {
   "cell_type": "code",
   "execution_count": 9,
   "metadata": {},
   "outputs": [
    {
     "name": "stdout",
     "output_type": "stream",
     "text": [
      "🚧 PLACEHOLDER: Email Categorization Agent\n",
      "\n",
      "This section will include:\n",
      "- EmailCategorizer agent using Claude API\n",
      "- Category rules from CSV configuration\n",
      "- Confidence scoring for each categorization\n",
      "- Storage of results in email_categories table\n",
      "\n",
      "Target categories:\n",
      "  - Other/Advertising: Promotional/sales emails\n",
      "  - Other/Rest: Uncategorized emails\n",
      "  - Review/Job search: Job opportunities\n"
     ]
    }
   ],
   "source": [
    "# PLACEHOLDER: Categorization will be implemented in Phase 3\n",
    "print(\"🚧 PLACEHOLDER: Email Categorization Agent\")\n",
    "print(\"\")\n",
    "print(\"This section will include:\")\n",
    "print(\"- EmailCategorizer agent using Claude API\")\n",
    "print(\"- Category rules from CSV configuration\")\n",
    "print(\"- Confidence scoring for each categorization\")\n",
    "print(\"- Storage of results in email_categories table\")\n",
    "print(\"\")\n",
    "print(\"Target categories:\")\n",
    "print(\"  - Other/Advertising: Promotional/sales emails\")\n",
    "print(\"  - Other/Rest: Uncategorized emails\")\n",
    "print(\"  - Review/Job search: Job opportunities\")"
   ]
  },
  {
   "cell_type": "markdown",
   "metadata": {},
   "source": [
    "---\n",
    "\n",
    "## ⚡ Section 4: Execute Actions\n",
    "\n",
    "**What this does**: Run specific analysis on categorized emails\n",
    "\n",
    "**Test goal**: ✅ X actions completed (summaries, job analysis, etc.)\n",
    "\n",
    "⚠️ **Note**: This section is a placeholder - action agents will be implemented in Phase 4"
   ]
  },
  {
   "cell_type": "code",
   "execution_count": null,
   "metadata": {},
   "outputs": [
    {
     "name": "stdout",
     "output_type": "stream",
     "text": [
      "📊 Categorized emails ready for actions: 0\n",
      "ℹ️ No categorized emails found\n"
     ]
    }
   ],
   "source": [
    "# Show categorized emails ready for actions\n",
    "session = db_manager.get_session()\n",
    "\n",
    "categorized_emails = session.query(Email).join(EmailCategory).all()\n",
    "\n",
    "print(f\"📊 Categorized emails ready for actions: {len(categorized_emails)}\")\n",
    "\n",
    "if categorized_emails:\n",
    "    # Group by category\n",
    "    from collections import defaultdict\n",
    "\n",
    "    by_category = defaultdict(list)\n",
    "\n",
    "    for email in categorized_emails:\n",
    "        for category in email.categories:\n",
    "            key = f\"{category.category}/{category.subcategory}\"\n",
    "            by_category[key].append(email)\n",
    "\n",
    "    print(\"\\n📈 Breakdown by category:\")\n",
    "    for category, emails in by_category.items():\n",
    "        print(f\"  - {category}: {len(emails)} emails\")\n",
    "else:\n",
    "    print(\"ℹ️ No categorized emails found\")\n",
    "\n",
    "session.close()"
   ]
  },
  {
   "cell_type": "code",
   "execution_count": 11,
   "metadata": {},
   "outputs": [
    {
     "name": "stdout",
     "output_type": "stream",
     "text": [
      "🚧 PLACEHOLDER: Action Agents\n",
      "\n",
      "This section will include:\n",
      "\n",
      "1. AdvertisingAnalyzer:\n",
      "   - Analyze advertising emails\n",
      "   - Summarize categorization reasoning\n",
      "   - Identify key indicators\n",
      "\n",
      "2. RestCategorizer:\n",
      "   - Process uncategorized emails\n",
      "   - Create sender/subject summaries\n",
      "   - Explain why emails didn't fit other categories\n",
      "\n",
      "3. JobSearchAnalyzer:\n",
      "   - Scan for target companies (MUST, Polisen, Ework)\n",
      "   - Identify relevant roles and domains\n",
      "   - Generate interest level and recommendations\n",
      "\n",
      "Results will be stored in agent_actions table\n"
     ]
    }
   ],
   "source": [
    "# PLACEHOLDER: Action agents will be implemented in Phase 4\n",
    "print(\"🚧 PLACEHOLDER: Action Agents\")\n",
    "print(\"\")\n",
    "print(\"This section will include:\")\n",
    "print(\"\")\n",
    "print(\"1. AdvertisingAnalyzer:\")\n",
    "print(\"   - Analyze advertising emails\")\n",
    "print(\"   - Summarize categorization reasoning\")\n",
    "print(\"   - Identify key indicators\")\n",
    "print(\"\")\n",
    "print(\"2. RestCategorizer:\")\n",
    "print(\"   - Process uncategorized emails\")\n",
    "print(\"   - Create sender/subject summaries\")\n",
    "print(\"   - Explain why emails didn't fit other categories\")\n",
    "print(\"\")\n",
    "print(\"3. JobSearchAnalyzer:\")\n",
    "print(\"   - Scan for target companies (MUST, Polisen, Ework)\")\n",
    "print(\"   - Identify relevant roles and domains\")\n",
    "print(\"   - Generate interest level and recommendations\")\n",
    "print(\"\")\n",
    "print(\"Results will be stored in agent_actions table\")"
   ]
  },
  {
   "cell_type": "markdown",
   "metadata": {},
   "source": [
    "---\n",
    "\n",
    "## 📊 Section 5: View Results\n",
    "\n",
    "**What this does**: Display processing summary and export for review\n",
    "\n",
    "**Test goal**: ✅ Results summary displayed, JSON file exported"
   ]
  },
  {
   "cell_type": "code",
   "execution_count": 12,
   "metadata": {},
   "outputs": [
    {
     "name": "stdout",
     "output_type": "stream",
     "text": [
      "📊 ZERO INBOX PROCESSING SUMMARY\n",
      "========================================\n",
      "📧 Total emails in database: 15\n",
      "🏷️ Emails categorized: 0\n",
      "⚡ Actions completed: 0\n",
      "⏳ Pending categorization: 15\n"
     ]
    }
   ],
   "source": [
    "# Generate processing summary\n",
    "from models.zero_inbox_models import AgentAction\n",
    "\n",
    "session = db_manager.get_session()\n",
    "\n",
    "# Get counts\n",
    "total_emails = session.query(Email).count()\n",
    "categorized_count = session.query(Email).join(EmailCategory).count()\n",
    "actions_count = session.query(AgentAction).count()\n",
    "\n",
    "print(\"📊 ZERO INBOX PROCESSING SUMMARY\")\n",
    "print(\"=\" * 40)\n",
    "print(f\"📧 Total emails in database: {total_emails}\")\n",
    "print(f\"🏷️ Emails categorized: {categorized_count}\")\n",
    "print(f\"⚡ Actions completed: {actions_count}\")\n",
    "print(f\"⏳ Pending categorization: {total_emails - categorized_count}\")\n",
    "\n",
    "session.close()"
   ]
  },
  {
   "cell_type": "code",
   "execution_count": null,
   "metadata": {},
   "outputs": [
    {
     "ename": "AttributeError",
     "evalue": "'int' object has no attribute 'label'",
     "output_type": "error",
     "traceback": [
      "\u001b[31m---------------------------------------------------------------------------\u001b[39m",
      "\u001b[31mAttributeError\u001b[39m                            Traceback (most recent call last)",
      "\u001b[36mCell\u001b[39m\u001b[36m \u001b[39m\u001b[32mIn[13]\u001b[39m\u001b[32m, line 10\u001b[39m\n\u001b[32m      1\u001b[39m \u001b[38;5;66;03m# Show category breakdown (when categories exist)\u001b[39;00m\n\u001b[32m      2\u001b[39m session = db_manager.get_session()\n\u001b[32m      4\u001b[39m category_stats = session.query(\n\u001b[32m      5\u001b[39m     EmailCategory.category,\n\u001b[32m      6\u001b[39m     EmailCategory.subcategory,\n\u001b[32m      7\u001b[39m     \u001b[43msession\u001b[49m\u001b[43m.\u001b[49m\u001b[43mquery\u001b[49m\u001b[43m(\u001b[49m\u001b[43mEmailCategory\u001b[49m\u001b[43m)\u001b[49m\u001b[43m.\u001b[49m\u001b[43mfilter\u001b[49m\u001b[43m(\u001b[49m\n\u001b[32m      8\u001b[39m \u001b[43m        \u001b[49m\u001b[43mEmailCategory\u001b[49m\u001b[43m.\u001b[49m\u001b[43mcategory\u001b[49m\u001b[43m \u001b[49m\u001b[43m==\u001b[49m\u001b[43m \u001b[49m\u001b[43mEmailCategory\u001b[49m\u001b[43m.\u001b[49m\u001b[43mcategory\u001b[49m\u001b[43m,\u001b[49m\n\u001b[32m      9\u001b[39m \u001b[43m        \u001b[49m\u001b[43mEmailCategory\u001b[49m\u001b[43m.\u001b[49m\u001b[43msubcategory\u001b[49m\u001b[43m \u001b[49m\u001b[43m==\u001b[49m\u001b[43m \u001b[49m\u001b[43mEmailCategory\u001b[49m\u001b[43m.\u001b[49m\u001b[43msubcategory\u001b[49m\n\u001b[32m---> \u001b[39m\u001b[32m10\u001b[39m \u001b[43m    \u001b[49m\u001b[43m)\u001b[49m\u001b[43m.\u001b[49m\u001b[43mcount\u001b[49m\u001b[43m(\u001b[49m\u001b[43m)\u001b[49m\u001b[43m.\u001b[49m\u001b[43mlabel\u001b[49m(\u001b[33m'\u001b[39m\u001b[33mcount\u001b[39m\u001b[33m'\u001b[39m)\n\u001b[32m     11\u001b[39m ).group_by(\n\u001b[32m     12\u001b[39m     EmailCategory.category,\n\u001b[32m     13\u001b[39m     EmailCategory.subcategory\n\u001b[32m     14\u001b[39m ).all()\n\u001b[32m     16\u001b[39m \u001b[38;5;28;01mif\u001b[39;00m category_stats:\n\u001b[32m     17\u001b[39m     \u001b[38;5;28mprint\u001b[39m(\u001b[33m\"\u001b[39m\u001b[38;5;130;01m\\n\u001b[39;00m\u001b[33m🏷️ CATEGORY BREAKDOWN:\u001b[39m\u001b[33m\"\u001b[39m)\n",
      "\u001b[31mAttributeError\u001b[39m: 'int' object has no attribute 'label'"
     ]
    }
   ],
   "source": [
    "# Show category breakdown (when categories exist)\n",
    "session = db_manager.get_session()\n",
    "\n",
    "category_stats = (\n",
    "    session.query(\n",
    "        EmailCategory.category,\n",
    "        EmailCategory.subcategory,\n",
    "        session.query(EmailCategory)\n",
    "        .filter(\n",
    "            EmailCategory.category == EmailCategory.category,\n",
    "            EmailCategory.subcategory == EmailCategory.subcategory,\n",
    "        )\n",
    "        .count()\n",
    "        .label(\"count\"),\n",
    "    )\n",
    "    .group_by(EmailCategory.category, EmailCategory.subcategory)\n",
    "    .all()\n",
    ")\n",
    "\n",
    "if category_stats:\n",
    "    print(\"\\n🏷️ CATEGORY BREAKDOWN:\")\n",
    "    for category, subcategory, count in category_stats:\n",
    "        if category != \"system_template\":  # Skip template records\n",
    "            print(f\"  - {category}/{subcategory}: {count} emails\")\n",
    "else:\n",
    "    print(\"\\nℹ️ No categorized emails yet\")\n",
    "\n",
    "session.close()"
   ]
  },
  {
   "cell_type": "code",
   "execution_count": null,
   "metadata": {},
   "outputs": [],
   "source": [
    "# Export results for human review (when data exists)\n",
    "import json\n",
    "import os\n",
    "from datetime import datetime\n",
    "\n",
    "# Create output directory\n",
    "output_dir = \"output/human_review\"\n",
    "os.makedirs(output_dir, exist_ok=True)\n",
    "\n",
    "# Generate export filename\n",
    "timestamp = datetime.now().strftime(\"%Y%m%d_%H%M%S\")\n",
    "export_filename = f\"zero_inbox_review_{timestamp}.json\"\n",
    "export_path = os.path.join(output_dir, export_filename)\n",
    "\n",
    "# Create export data structure\n",
    "export_data = {\n",
    "    \"export_metadata\": {\n",
    "        \"export_date\": datetime.now().isoformat(),\n",
    "        \"total_emails\": total_emails,\n",
    "        \"categorized_emails\": categorized_count,\n",
    "        \"pending_review\": categorized_count,\n",
    "    },\n",
    "    \"emails\": [],\n",
    "}\n",
    "\n",
    "# Add placeholder for actual data (will be populated when categorization is implemented)\n",
    "if categorized_count > 0:\n",
    "    export_data[\"emails\"].append(\n",
    "        {\n",
    "            \"note\": \"Actual email data will be populated when categorization is implemented\",\n",
    "            \"structure\": {\n",
    "                \"email_id\": \"database_id\",\n",
    "                \"sender\": \"email_sender\",\n",
    "                \"subject\": \"email_subject\",\n",
    "                \"date\": \"email_date\",\n",
    "                \"original_category\": \"AI_category\",\n",
    "                \"original_subcategory\": \"AI_subcategory\",\n",
    "                \"action_result\": \"agent_analysis\",\n",
    "                \"confidence\": \"0.0-1.0\",\n",
    "                \"review_fields\": {\n",
    "                    \"approved\": \"null (to be filled by human)\",\n",
    "                    \"corrected_category\": \"null (if correction needed)\",\n",
    "                    \"corrected_subcategory\": \"null (if correction needed)\",\n",
    "                    \"human_reasoning\": \"null (explanation from human)\",\n",
    "                },\n",
    "            },\n",
    "        }\n",
    "    )\n",
    "\n",
    "# Write export file\n",
    "with open(export_path, \"w\", encoding=\"utf-8\") as f:\n",
    "    json.dump(export_data, f, indent=2, ensure_ascii=False)\n",
    "\n",
    "print(f\"\\n📄 Export file created: {export_path}\")\n",
    "print(f\"📊 Ready for human review: {categorized_count} emails\")\n",
    "\n",
    "if categorized_count == 0:\n",
    "    print(\n",
    "        \"ℹ️ Export contains structure template - will have real data after categorization\"\n",
    "    )"
   ]
  },
  {
   "cell_type": "markdown",
   "metadata": {},
   "source": [
    "---\n",
    "\n",
    "## 👤 Section 6: Import Feedback (Optional)\n",
    "\n",
    "**What this does**: Load human corrections and update database\n",
    "\n",
    "**Test goal**: ✅ Human feedback integrated, corrections stored\n",
    "\n",
    "⚠️ **Note**: Run this only after manually reviewing and correcting the exported JSON file"
   ]
  },
  {
   "cell_type": "code",
   "execution_count": null,
   "metadata": {},
   "outputs": [],
   "source": [
    "# PLACEHOLDER: Human feedback import\n",
    "print(\"🚧 PLACEHOLDER: Human Feedback Import\")\n",
    "print(\"\")\n",
    "print(\"This section will include:\")\n",
    "print(\"- Load reviewed JSON files from output/human_review/\")\n",
    "print(\"- Validate human corrections\")\n",
    "print(\"- Update human_reviews table with feedback\")\n",
    "print(\"- Generate feedback integration summary\")\n",
    "print(\"- Log corrections for future learning\")\n",
    "print(\"\")\n",
    "print(\"Instructions for human reviewers:\")\n",
    "print(\"1. Open the exported JSON file\")\n",
    "print(\"2. For each email, fill in review_fields:\")\n",
    "print(\"   - approved: true/false\")\n",
    "print(\"   - corrected_category: (if approved=false)\")\n",
    "print(\"   - corrected_subcategory: (if approved=false)\")\n",
    "print(\"   - human_reasoning: explanation\")\n",
    "print(\"3. Save the file and run this section\")"
   ]
  },
  {
   "cell_type": "markdown",
   "metadata": {},
   "source": [
    "---\n",
    "\n",
    "## 🎯 Next Steps\n",
    "\n",
    "**Current Status**: Phase 1 ✅ Database + Phase 2 ✅ Email Fetching\n",
    "\n",
    "**To implement next**:\n",
    "1. **Phase 3**: Email Categorization (Section 3 above)\n",
    "2. **Phase 4**: Action Agents (Section 4 above)  \n",
    "3. **Phase 5**: Results Summary (enhance Section 5)\n",
    "4. **Phase 6**: Human Feedback Loop (Section 6 above)\n",
    "\n",
    "**How to use this notebook**:\n",
    "- Run sections 1-2 to test current functionality\n",
    "- Sections 3-6 are placeholders for future phases\n",
    "- Each section is independent and can be run separately\n",
    "- Clear status messages show what's working vs. placeholder"
   ]
  }
 ],
 "metadata": {
  "kernelspec": {
   "display_name": "venv",
   "language": "python",
   "name": "python3"
  },
  "language_info": {
   "codemirror_mode": {
    "name": "ipython",
    "version": 3
   },
   "file_extension": ".py",
   "mimetype": "text/x-python",
   "name": "python",
   "nbconvert_exporter": "python",
   "pygments_lexer": "ipython3",
   "version": "3.12.9"
  }
 },
 "nbformat": 4,
 "nbformat_minor": 4
}
