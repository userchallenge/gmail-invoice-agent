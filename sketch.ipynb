{
 "cells": [
  {
   "cell_type": "code",
   "execution_count": 1,
   "id": "f73f632c",
   "metadata": {},
   "outputs": [],
   "source": [
    "import anthropic\n",
    "import configparser\n",
    "\n",
    "# Load configuration from tmp.ini\n",
    "config = configparser.ConfigParser()\n",
    "config.read(\"config/config.ini\")\n",
    "\n",
    "client = anthropic.Anthropic(api_key=config.get(\"API_KEYS\", \"CLAUDE\"))"
   ]
  }
 ],
 "metadata": {
  "kernelspec": {
   "display_name": "venv",
   "language": "python",
   "name": "python3"
  },
  "language_info": {
   "codemirror_mode": {
    "name": "ipython",
    "version": 3
   },
   "file_extension": ".py",
   "mimetype": "text/x-python",
   "name": "python",
   "nbconvert_exporter": "python",
   "pygments_lexer": "ipython3",
   "version": "3.12.9"
  }
 },
 "nbformat": 4,
 "nbformat_minor": 5
}
